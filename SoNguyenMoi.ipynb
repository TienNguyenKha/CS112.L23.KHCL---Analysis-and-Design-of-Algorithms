{
  "nbformat": 4,
  "nbformat_minor": 0,
  "metadata": {
    "colab": {
      "name": "SoNguyenMoi.ipynb",
      "provenance": [],
      "collapsed_sections": [],
      "toc_visible": true,
      "authorship_tag": "ABX9TyMTD9lnuCgrOqBjbLoigtqx",
      "include_colab_link": true
    },
    "kernelspec": {
      "name": "python3",
      "display_name": "Python 3"
    },
    "language_info": {
      "name": "python"
    },
    "accelerator": "GPU"
  },
  "cells": [
    {
      "cell_type": "markdown",
      "metadata": {
        "id": "view-in-github",
        "colab_type": "text"
      },
      "source": [
        "<a href=\"https://colab.research.google.com/github/TienNguyenKha/CS112.L23.KHCL---Analysis-and-Design-of-Algorithms/blob/main/SoNguyenMoi.ipynb\" target=\"_parent\"><img src=\"https://colab.research.google.com/assets/colab-badge.svg\" alt=\"Open In Colab\"/></a>"
      ]
    },
    {
      "cell_type": "markdown",
      "metadata": {
        "id": "PWuq7HqVwVog"
      },
      "source": [
        "#<h1 align= \"center\">   <strong>     CS112.PHÂN TÍCH VÀ THIẾT KẾ THUẬT TOÁN</strong> </h1>"
      ]
    },
    {
      "cell_type": "markdown",
      "metadata": {
        "id": "LDqhLWMqwgJq"
      },
      "source": [
        "**CS112.L23.KHCL- Nhóm 7**"
      ]
    },
    {
      "cell_type": "markdown",
      "metadata": {
        "id": "DIQM-j2rxAVX"
      },
      "source": [
        "## Đề bài: Số Nguyên Mới\n",
        "Time limit per test: 0.1 second\n",
        "\n",
        "Memory limit per test: 50 megabytes\n",
        "\n",
        "Cho số nguyên dương n có không quá 100 chữ số. Hãy xác định số nguyên lớn nhất m chia hết cho 3 và khác n ở đúng một chữ số.\n",
        "\n",
        "Ví dụ, n = 123 thì m sẽ là 723.\n",
        "\n",
        "Dữ liệu: Vào từ thiết bị nhập chuẩn gồm một dòng chứa số nguyên n có không quá 100 chữ số và không chứa các số 0 không có nghĩa.\n",
        "\n",
        "Kết quả: Đưa ra thiết bị xuất chuẩn số nguyên m tìm được.\n",
        "\n",
        "Input\t123\n",
        "Output 723"
      ]
    },
    {
      "cell_type": "markdown",
      "metadata": {
        "id": "vq3P2Mx4xYlp"
      },
      "source": [
        "##**1. Abstraction:**\n",
        "Tìm số nguyên lớn nhất, chia hết cho 3 và khác n (input) đúng 1 chữ số."
      ]
    },
    {
      "cell_type": "markdown",
      "metadata": {
        "id": "7QucQxtYyMbA"
      },
      "source": [
        "##**2. Pattern Recognition:**\n",
        "\n",
        "\n",
        "1.   Chúng ta có thể áp dụng đặc điểm  trong toán học : đó là **dấu hiệu chia hết cho 3** (Nó được phát biểu như sau: 1 số chia hết cho 3 thì tổng các phần tử của số đó cũng sẽ chia hết cho 3)\n",
        "2.   Đặc điểm nhận dạng: Số lớn nhất, chia hết cho 3\n",
        "3. Nên bài toán này chúng em sẽ cho tên dạng bài toán là dạng toán **tìm số lớn nhất chia hết cho 3 áp dụng tính chất tổng các phần tử chia hết cho 3**\n",
        "\n"
      ]
    },
    {
      "cell_type": "markdown",
      "metadata": {
        "id": "wTSFM5uNzsvl"
      },
      "source": [
        "##**3. Algorithm designed:**\n",
        "###Idea:\n",
        "Muốn 1 số chia hết cho 3 lớn nhất và khác số cho sẵn n đúng 1 chữ số, chúng ta cần xét đến 2 trường hợp:\n",
        "\n",
        "  \n",
        "\n",
        "**TH1:**Số n chưa đạt đến ngưỡng lớn nhất có thể\n",
        "\n",
        "\n",
        "1.   Xét xem số n cần** cộng thêm** bao nhiêu để có thể thỏa mãn yếu tố chia hết cho 3. Tạm gọi phần được cộng thêm này là **temp0**\n",
        "2.   Để thỏa mãn yếu tố là số lớn nhất và khác n đúng 1 chữ số thì: Duyệt từng phần tử của số n từ trái qua, temp1=n[i]+temp0 và nếu temp1 vẫn bé hơn bằng 9 thì ta tiếp tục xét số này(cộng 3 liên tục để đạt được giá trị lớn nhất (<=9) và vẫn đảm bảo chia hết cho 3) rồi **dừng lại việc xét duyệt tiếp phần tử khác**. Ngược lại nếu temp1 > 9 thì ta dời i qua phải 1 đơn vị để xét đến phần tử tiếp theo. Cứ làm vậy cho đến khi **tìm được số thỏa mãn để thay đổi giá trị** hoặc **đã duyệt hết phần tử của n**.\n",
        "\n",
        "**TH2:** Số n đã đạt đến ngưỡng lớn nhất(Không thể cộng thêm để thay đổi số nào mà vẫn giữ yếu tố khác n đúng 1 chữ số và lớn nhất nữa)\n",
        "\n",
        "\n",
        "1.   Đối với trường hợp này thì so với yêu cầu đề bài chúng ta vẫn sẽ phải đi tìm số **lớn nhất có thể** chia hết cho 3 và khác n đúng 1 chữ số. Bằng cách tìm **số bé hơn n** nhưng vẫn đảm bảo 3 điều kiện đã nêu ra.\n",
        "2.   Để tìm số lớn nhất và bé hơn n thì ta duyệt từ phải qua và n[i] phải **trừ đi** 1 giá trị nào đó để có thể thỏa mãn cả 3 điều kiện trên. \n",
        "\n",
        "###Pseudocode:\n",
        "temp: số n nhập vào\n",
        "\n",
        "n: list các phần tử của số nhập vào\n",
        "\n",
        "temp0: giá trị mà số n phải cộng thêm để chia hết cho 3\n",
        "\n",
        "temp0=3-temp%3 \n",
        "\n",
        "ví dụ: 5%3=2 khi đó 5 cần phải cộng thêm temp0=3-(5%3)=1 để có thể chia hết cho 3.\n",
        "\n",
        "flag:=0 :cờ hiệu để đánh giá số thuộc TH1 hay TH2.\n",
        "\n",
        "for i in [0:len(n)]:\n",
        "\n",
        "    temp1=n[i]+temp0\n",
        "\n",
        "    Nếu temp1<=9:\n",
        "\n",
        "        while: temp1<=6:\n",
        "          temp1+=3\n",
        "        gán n[i]=temp1\n",
        "        gán cờ hiệu flag=1 để đánh dấu là TH1\n",
        "        Dừng vòng lặp!\n",
        "\n",
        "\n",
        "Nếu flag=0 thì số đầu vào thuộc TH2:\n",
        "    \n",
        "    i:=len(n)-1\n",
        "    \n",
        "    While i>=0:\n",
        "        \n",
        "        Nếu số đầu vào chia hết cho 3 và n[i]>=3:\n",
        "            \n",
        "            n[i]-=3\n",
        "            \n",
        "            Dừng vòng lặp!\n",
        "        \n",
        "        Nếu số đầu vào không chia hết cho 3 và n[i]>= temp%3:\n",
        "\n",
        "            n[i]-=temp%3\n",
        "\n",
        "            Dừng vòng lặp!\n",
        "        \n",
        "        i-=1\n",
        "\n",
        "Xuất kết quả!\n",
        "\n",
        "    "
      ]
    },
    {
      "cell_type": "markdown",
      "metadata": {
        "id": "SBnQHLkTD3sy"
      },
      "source": [
        "## **4.Computing Time Complexity**"
      ]
    },
    {
      "cell_type": "markdown",
      "metadata": {
        "id": "aeIDmLrlD9IG"
      },
      "source": [
        "##**5. Programming:**"
      ]
    },
    {
      "cell_type": "code",
      "metadata": {
        "colab": {
          "base_uri": "https://localhost:8080/"
        },
        "id": "5lZreXbREFYs",
        "outputId": "57db8f87-6f66-4ed3-e859-fb24e517ecfe"
      },
      "source": [
        "temp=input()\n",
        "n=list(map(int,list(temp)))\n",
        "#kiểm tra xem số n phải cộng thêm bao nhiêu để chia hết cho 3? ví dụ 5%3=2\n",
        "#tức (5+(3-2(modul từ kết quả chia dư trên))%3)=0\n",
        "# tương đương với 5 +1=6 và 6%3=0\n",
        "temp0=3-int(temp)%3\n",
        "#vì tìm số nguyên lớn nhất nên ý tưởng sẽ đi từ số đầu tiên của list,ví dụ 123 sẽ đi từ hàng trăm xét dần đến hàng đơn vị\n",
        "flag=0#cờ hiệu đánh dấu số thuộc TH1 HAY LÀ TH2\n",
        "for i in range(len(n)):\n",
        "    temp1=n[i]+temp0\n",
        "    if temp1<=9:#nếu sau khi cộng vào số temp0 mà vẫn thuộc 0->9 thì xét số này\n",
        "        while temp1<=6:#vì giả sử temp=6,==>6+3=9 ==>vẫn là 1 CHỮ SỐ HỢP LỆ\n",
        "            temp1+=3\n",
        "        n[i]=temp1\n",
        "        flag=1#cờ hiệu đánh dấu số thuộc TH1\n",
        "        break\n",
        "if flag==0:#Cờ hiệu đánh dấu TH2==> tức tìm số lớn hơn số đầu vào là không thể vì có thể n[i]+temp0>9\n",
        "#==> vậy ta tìm số bé hơn nhưng vẫn đảm bảo lớn nhất có thể và chia hết cho 3\n",
        "#==> biến đổi hàng từ hàng đơn vị để được số lớn nhất có thể\n",
        "    i=len(n)-1\n",
        "    while i>=0:\n",
        "        if temp0==3 and n[i]>=3:#tức số đầu vào đã chia hết cho 3==> chỉ cần trừ đi 3 để được số chia hết cho 3 nhưng vẫn lớn nhất\n",
        "            n[i]-=3\n",
        "            break\n",
        "        elif temp0!=3 and n[i]>=int(temp)%3:\n",
        "            n[i]-=int(temp)%3\n",
        "            break\n",
        "        i-=1\n",
        "for i in range(len(n)):\n",
        "    print(n[i],end='')\n"
      ],
      "execution_count": 1,
      "outputs": [
        {
          "output_type": "stream",
          "text": [
            "123\n",
            "723"
          ],
          "name": "stdout"
        }
      ]
    },
    {
      "cell_type": "markdown",
      "metadata": {
        "id": "mfyJ0FU0IrW7"
      },
      "source": [
        "**KẾT QUẢ WECODE:**\n",
        "![image.png](data:image/png;base64,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)"
      ]
    }
  ]
}