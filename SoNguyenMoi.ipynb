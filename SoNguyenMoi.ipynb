{
  "nbformat": 4,
  "nbformat_minor": 0,
  "metadata": {
    "colab": {
      "name": "SoNguyenMoi.ipynb",
      "provenance": [],
      "collapsed_sections": [],
      "authorship_tag": "ABX9TyOw8lB7gM+MlIerJlPA3rxQ",
      "include_colab_link": true
    },
    "kernelspec": {
      "name": "python3",
      "display_name": "Python 3"
    },
    "language_info": {
      "name": "python"
    },
    "accelerator": "GPU"
  },
  "cells": [
    {
      "cell_type": "markdown",
      "metadata": {
        "id": "view-in-github",
        "colab_type": "text"
      },
      "source": [
        "<a href=\"https://colab.research.google.com/github/TienNguyenKha/CS112.L23.KHCL---Analysis-and-Design-of-Algorithms/blob/main/SoNguyenMoi.ipynb\" target=\"_parent\"><img src=\"https://colab.research.google.com/assets/colab-badge.svg\" alt=\"Open In Colab\"/></a>"
      ]
    },
    {
      "cell_type": "markdown",
      "metadata": {
        "id": "PWuq7HqVwVog"
      },
      "source": [
        "#<h1 align= \"center\">   <strong>     CS112.PHÂN TÍCH VÀ THIẾT KẾ THUẬT TOÁN</strong> </h1>"
      ]
    },
    {
      "cell_type": "markdown",
      "metadata": {
        "id": "LDqhLWMqwgJq"
      },
      "source": [
        "**CS112.L23.KHCL- Nhóm 7**"
      ]
    },
    {
      "cell_type": "markdown",
      "metadata": {
        "id": "DIQM-j2rxAVX"
      },
      "source": [
        "## Đề bài: Số Nguyên Mới\n",
        "Time limit per test: 0.1 second\n",
        "\n",
        "Memory limit per test: 50 megabytes\n",
        "\n",
        "Cho số nguyên dương n có không quá 100 chữ số. Hãy xác định số nguyên lớn nhất m chia hết cho 3 và khác n ở đúng một chữ số.\n",
        "\n",
        "Ví dụ, n = 123 thì m sẽ là 723.\n",
        "\n",
        "Dữ liệu: Vào từ thiết bị nhập chuẩn gồm một dòng chứa số nguyên n có không quá 100 chữ số và không chứa các số 0 không có nghĩa.\n",
        "\n",
        "Kết quả: Đưa ra thiết bị xuất chuẩn số nguyên m tìm được.\n",
        "\n",
        "Input\t123\n",
        "Output 723"
      ]
    },
    {
      "cell_type": "markdown",
      "metadata": {
        "id": "vq3P2Mx4xYlp"
      },
      "source": [
        "##**1. Abstraction:**\n",
        "Tìm số nguyên lớn nhất, chia hết cho 3 và khác n (input) đúng 1 chữ số."
      ]
    },
    {
      "cell_type": "markdown",
      "metadata": {
        "id": "7QucQxtYyMbA"
      },
      "source": [
        "##**2. Pattern Recognition:**\n",
        "\n",
        "\n",
        "1.   Chúng ta có thể áp dụng đặc điểm  trong toán học : đó là **dấu hiệu chia hết cho 3** (Nó được phát biểu như sau: 1 số chia hết cho 3 thì tổng các phần tử của số đó cũng sẽ chia hết cho 3)\n",
        "2.   Đặc điểm nhận dạng: Số lớn nhất, chia hết cho 3\n",
        "3. Nên bài toán này chúng em sẽ cho tên dạng bài toán là dạng toán **tìm số lớn nhất chia hết cho 3 áp dụng tính chất tổng các phần tử chia hết cho 3**\n",
        "\n"
      ]
    },
    {
      "cell_type": "markdown",
      "metadata": {
        "id": "wTSFM5uNzsvl"
      },
      "source": [
        "##**3. Algorithm designed:**\n",
        "###Idea:\n",
        "Muốn 1 số chia hết cho 3 lớn nhất và khác số cho sẵn n đúng 1 chữ số, chúng ta cần xét đến 2 trường hợp:\n",
        "\n",
        "  \n",
        "\n",
        "**TH1:**Số n chưa đạt đến ngưỡng lớn nhất có thể\n",
        "\n",
        "\n",
        "1.   Xét xem số n cần** cộng thêm** bao nhiêu để có thể thỏa mãn yếu tố chia hết cho 3. Tạm gọi phần được cộng thêm này là **temp0**\n",
        "2.   Để thỏa mãn yếu tố là số lớn nhất và khác n đúng 1 chữ số thì: Duyệt từng phần tử của số n từ trái qua, temp1=n[i]+temp0 và nếu temp1 vẫn bé hơn bằng 9 thì ta tiếp tục xét số này(cộng 3 liên tục để đạt được giá trị lớn nhất (<=9) và vẫn đảm bảo chia hết cho 3) rồi **dừng lại việc xét duyệt tiếp phần tử khác**. Ngược lại nếu temp1 > 9 thì ta dời i qua phải 1 đơn vị để xét đến phần tử tiếp theo. Cứ làm vậy cho đến khi **tìm được số thỏa mãn để thay đổi giá trị** hoặc **đã duyệt hết phần tử của n**.\n",
        "\n",
        "**TH2:** Số n đã đạt đến ngưỡng lớn nhất(Không thể cộng thêm để thay đổi số nào mà vẫn giữ yếu tố khác n đúng 1 chữ số và lớn nhất nữa)\n",
        "\n",
        "\n",
        "1.   Đối với trường hợp này thì so với yêu cầu đề bài chúng ta vẫn sẽ phải đi tìm số **lớn nhất có thể** chia hết cho 3 và khác n đúng 1 chữ số. Bằng cách tìm **số bé hơn n** nhưng vẫn đảm bảo 3 điều kiện đã nêu ra.\n",
        "2.   Để tìm số lớn nhất và bé hơn n thì ta duyệt từ phải qua và n[i] phải **trừ đi** 1 giá trị nào đó để có thể thỏa mãn cả 3 điều kiện trên. \n",
        "\n",
        "###Pseudocode:\n",
        "temp: số n nhập vào\n",
        "\n",
        "n: list các phần tử của số nhập vào\n",
        "\n",
        "temp0: giá trị mà số n phải cộng thêm để chia hết cho 3\n",
        "\n",
        "temp0=3-temp%3 \n",
        "\n",
        "ví dụ: 5%3=2 khi đó 5 cần phải cộng thêm temp0=3-(5%3)=1 để có thể chia hết cho 3.\n",
        "flag:=0 :cờ hiệu để đánh giá số thuộc TH1 hay TH2.\n",
        "\n",
        "for i in [0:len(n)]:\n",
        "\n",
        "    temp1=n[i]+temp0\n",
        "\n",
        "    Nếu temp1<=9:\n",
        "\n",
        "        while: temp1<=6:\n",
        "          temp1+=3\n",
        "        gán n[i]=temp1\n",
        "        gán cờ hiệu flag=1 để đánh dấu là TH1\n",
        "        Dừng vòng lặp!\n",
        "\n",
        "\n",
        "Nếu flag=0 thì số đầu vào thuộc TH2:\n",
        "    \n",
        "    i:=len(n)-1\n",
        "    \n",
        "    While i>=0:\n",
        "        \n",
        "        Nếu số đầu vào chia hết cho 3 và n[i]>=3:\n",
        "            \n",
        "            n[i]-=3\n",
        "            \n",
        "            Dừng vòng lặp!\n",
        "        \n",
        "        Nếu số đầu vào không chia hết cho 3 và n[i]>= temp%3:\n",
        "\n",
        "            n[i]-=temp%3\n",
        "\n",
        "            Dừng vòng lặp!\n",
        "        \n",
        "        i-=1\n",
        "\n",
        "Xuất kết quả!\n",
        "\n",
        "    "
      ]
    },
    {
      "cell_type": "markdown",
      "metadata": {
        "id": "SBnQHLkTD3sy"
      },
      "source": [
        "## **4.Computing Time Complexity**"
      ]
    },
    {
      "cell_type": "markdown",
      "metadata": {
        "id": "aeIDmLrlD9IG"
      },
      "source": [
        "##**5. Programming:**"
      ]
    },
    {
      "cell_type": "code",
      "metadata": {
        "colab": {
          "base_uri": "https://localhost:8080/"
        },
        "id": "5lZreXbREFYs",
        "outputId": "57db8f87-6f66-4ed3-e859-fb24e517ecfe"
      },
      "source": [
        "temp=input()\n",
        "n=list(map(int,list(temp)))\n",
        "#kiểm tra xem số n phải cộng thêm bao nhiêu để chia hết cho 3? ví dụ 5%3=2\n",
        "#tức (5+(3-2(modul từ kết quả chia dư trên))%3)=0\n",
        "# tương đương với 5 +1=6 và 6%3=0\n",
        "temp0=3-int(temp)%3\n",
        "#vì tìm số nguyên lớn nhất nên ý tưởng sẽ đi từ số đầu tiên của list,ví dụ 123 sẽ đi từ hàng trăm xét dần đến hàng đơn vị\n",
        "flag=0#cờ hiệu đánh dấu số thuộc TH1 HAY LÀ TH2\n",
        "for i in range(len(n)):\n",
        "    temp1=n[i]+temp0\n",
        "    if temp1<=9:#nếu sau khi cộng vào số temp0 mà vẫn thuộc 0->9 thì xét số này\n",
        "        while temp1<=6:#vì giả sử temp=6,==>6+3=9 ==>vẫn là 1 CHỮ SỐ HỢP LỆ\n",
        "            temp1+=3\n",
        "        n[i]=temp1\n",
        "        flag=1#cờ hiệu đánh dấu số thuộc TH1\n",
        "        break\n",
        "if flag==0:#Cờ hiệu đánh dấu TH2==> tức tìm số lớn hơn số đầu vào là không thể vì có thể n[i]+temp0>9\n",
        "#==> vậy ta tìm số bé hơn nhưng vẫn đảm bảo lớn nhất có thể và chia hết cho 3\n",
        "#==> biến đổi hàng từ hàng đơn vị để được số lớn nhất có thể\n",
        "    i=len(n)-1\n",
        "    while i>=0:\n",
        "        if temp0==3 and n[i]>=3:#tức số đầu vào đã chia hết cho 3==> chỉ cần trừ đi 3 để được số chia hết cho 3 nhưng vẫn lớn nhất\n",
        "            n[i]-=3\n",
        "            break\n",
        "        elif temp0!=3 and n[i]>=int(temp)%3:\n",
        "            n[i]-=int(temp)%3\n",
        "            break\n",
        "        i-=1\n",
        "for i in range(len(n)):\n",
        "    print(n[i],end='')\n"
      ],
      "execution_count": 1,
      "outputs": [
        {
          "output_type": "stream",
          "text": [
            "123\n",
            "723"
          ],
          "name": "stdout"
        }
      ]
    }
  ]
}