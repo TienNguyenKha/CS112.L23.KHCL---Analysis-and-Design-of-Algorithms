{
  "nbformat": 4,
  "nbformat_minor": 0,
  "metadata": {
    "colab": {
      "name": "KhoaSo.ipynb",
      "provenance": [],
      "collapsed_sections": [],
      "toc_visible": true,
      "include_colab_link": true
    },
    "kernelspec": {
      "name": "python3",
      "display_name": "Python 3"
    },
    "language_info": {
      "name": "python"
    },
    "accelerator": "GPU"
  },
  "cells": [
    {
      "cell_type": "markdown",
      "metadata": {
        "id": "view-in-github",
        "colab_type": "text"
      },
      "source": [
        "<a href=\"https://colab.research.google.com/github/TienNguyenKha/CS112.L23.KHCL---Analysis-and-Design-of-Algorithms/blob/main/KhoaSo.ipynb\" target=\"_parent\"><img src=\"https://colab.research.google.com/assets/colab-badge.svg\" alt=\"Open In Colab\"/></a>"
      ]
    },
    {
      "cell_type": "markdown",
      "metadata": {
        "id": "Naj8-KYz5z9q"
      },
      "source": [
        "<h1 align= \"center\">   <strong>     CS112.PHÂN TÍCH VÀ THIẾT KẾ THUẬT TOÁN</strong> </h1>"
      ]
    },
    {
      "cell_type": "markdown",
      "metadata": {
        "id": "4xsawLrW5-vo"
      },
      "source": [
        "## **CS112.L23.KHCL- Nhóm 7**"
      ]
    },
    {
      "cell_type": "markdown",
      "metadata": {
        "id": "N5gVcWSX6Maa"
      },
      "source": [
        "## Đề bài: **Khóa số**\n",
        "**Khóa Số (0.15s, 100MB)**\n",
        "Để tăng độ an toàn chống hiện tượng cướp ngân hàng ngày càng phổ biến người ta dùng khóa số với mã mở khóa đơn giản nhưng rất hiệu quả. Trên cửa ra vào hiển thị một xâu khá dài các ký tự số. Các chữ số có thể di chuyển đổi chổ cho nhau hoặc bị xóa. Muốn mở khóa người ta phải di chuyển các chữ số và trong trường hợp cần thiết – xóa vài chữ số để nhận được xâu lớn nhất thỏa mãn điều kiện đã cài đặt. Điều kiện này được thay đổi thường xuyên. Hôm nay điều kiện đó là “Số nhận được phải chia hết cho 3”. Số nhận được có thể bắt đầu bằng các chữ số 0. Xâu “000” sẽ lớn hơn xâu “00”.\n",
        "\n",
        "Hãy xác định khóa mở cửa.\n",
        "\n",
        "Dữ liệu: Vào từ thiết bị nhập chuẩn gồm một xâu ký tự số có độ dài lớn hơn 2 và không vượt quá 105.\n",
        "\n",
        "Kết quả: Đưa ra thiết bị xuất chuẩn xâu khóa mở cửa.\n",
        "\n",
        "Ví dụ:\n",
        "\n",
        "INPUT\n",
        "\n",
        "105\n",
        " \n",
        "\n",
        "OUTPUT\n",
        "\n",
        "\n",
        " \n",
        "\n",
        "510\n",
        "\n"
      ]
    },
    {
      "cell_type": "markdown",
      "metadata": {
        "id": "vim40Eu663Pc"
      },
      "source": [
        "##**1. Abstraction:**\n",
        "\n",
        "Tìm xâu ký tự số lớn nhất chia hết cho 3  (có thể xóa hoặc hoán vị) các phần tử. "
      ]
    },
    {
      "cell_type": "markdown",
      "metadata": {
        "id": "Ii_ymT4i7USx"
      },
      "source": [
        "##**2. Pattern Recognition:**\n",
        "\n",
        "\n",
        "\n",
        "*   Theo như đề bài cho thì xâu kí tự có thể lên đến 10^5 kí tự. Nên việc chia trực tiếp để biết nên xóa hay hoán vị phần tử nào là điều khó khăn và dường như không thể thực hiện được.\n",
        "*   Nhưng chúng ta có thể áp dụng đặc điểm khác trong toán học : đó là **dấu hiệu chia hết cho 3** (Nó được phát biểu như sau: 1 số chia hết cho 3 thì tổng các phần tử của số đó cũng sẽ chia hết cho 3)\n",
        "*Đặc điểm nhận dạng: Xâu lớn nhất , chia hết cho 3\n",
        "*   Nên bài toán này chúng em sẽ cho tên dạng bài toán là dạng toán **tìm xâu lớn nhất chia hết cho 3 áp dụng tính chất tổng các phần tử chia hết cho 3**\n",
        "\n",
        "\n",
        "\n"
      ]
    },
    {
      "cell_type": "markdown",
      "metadata": {
        "id": "1pdA05G-9JPZ"
      },
      "source": [
        "##3. Algorithm designed:\n",
        "###Idea:\n",
        "\n",
        "Khi 1 số bất kì chia cho 3 sẽ có 3 trường hợp:\n",
        "\n",
        "*   Chia hết (Trường hợp đơn giản)\n",
        "*   Chia cho 3 nhưng lại dư 1: \n",
        "        +Có thể là xâu có 1 số chia cho 3 dư 1\n",
        "        +Có thể là xâu có 2 số chia 3 dư 2\n",
        "\n",
        "*  Chia cho 3 nhưng lại dư 2:\n",
        "        +Có thể là xâu có 1 số chia cho 3 dư 2\n",
        "        +Có thể là xâu có 2 số chia cho 3 dư 1\n",
        "\n",
        "* Kết hợp với yêu cầu là xâu dài nhất ==> Chúng ta cần xóa càng ít phần càng tốt. Do đó chúng ta sẽ sắp xếp chuỗi trước (từ cao đến thấp) để xóa dựa vào 2 trường hợp không chia hết cho 3 như trên đã đề cập. Lưu ý là xóa vừa đủ để chuỗi chia hết cho 3, tức là khi đã thỏa mãn được các điều kiện trên thì lập tức dừng xóa ==> để đạt được chuỗi dài nhất.\n",
        "\n",
        "\n",
        "###Pseudocode:\n",
        "\n",
        "Sum= Tổng các số trong xâu\n",
        "\n",
        "du=Sum mod 3\n",
        "\n",
        "Nếu du ==0:\n",
        "\n",
        "        Sắp xếp chuỗi giảm dần\n",
        "\n",
        "Nếu du==1\n",
        "  \n",
        "        Đặt Flag=0 #cờ hiệu\n",
        "  \n",
        "        Nếu xâu có phần tử chia 3 dư 1:\n",
        "              flag=1\n",
        "\n",
        "              Xóa phần tử này khỏi xâu\n",
        "\n",
        "        Nếu flag=0: #Tức xâu không có số chia 3 dư 1 ==> có 2 số chia 3 dư 2\n",
        "\n",
        "            Xóa 2 phần tử này khỏi xâu\n",
        "\n",
        "Nếu du==2\n",
        "  \n",
        "        Đặt Flag=0 #cờ hiệu\n",
        "  \n",
        "        Nếu xâu có phần tử chia 3 dư 2:\n",
        "              flag=1\n",
        "\n",
        "              Xóa phần tử này khỏi xâu\n",
        "\n",
        "        Nếu flag=0: #Tức xâu không có số chia 3 dư 2 ==> có 2 số chia 3 dư 1\n",
        "\n",
        "            Xóa 2 phần tử này khỏi xâu\n",
        "\n",
        "In chuỗi đã sắp xếp giảm dần"
      ]
    },
    {
      "cell_type": "markdown",
      "metadata": {
        "id": "vaGhBfYaG4cH"
      },
      "source": [
        "## **4.Computing Time Complexity**\n",
        "\n",
        "***Time Complexity***\n",
        "* Hàm sort có sẵn trong python : O(n logn)\n",
        "* Hàm reverse có sẵn trong python : O(n)\n",
        "* Hàm remove có sẵn trong python : O(n)\n",
        "* Dòng 5->21: O(n<sup>2</sup>) \n",
        "* Dòng 23-37 : O(n<sup>2</sup>)\n",
        "\n",
        "**-> Time Complexity full: O(n<sup>2</sup>)**\n",
        "\n",
        "***Space Complexity : O(1)***\n",
        "\n"
      ]
    },
    {
      "cell_type": "markdown",
      "metadata": {
        "id": "0a11msayCCWf"
      },
      "source": [
        "##**5. Programming:**\n"
      ]
    },
    {
      "cell_type": "markdown",
      "metadata": {
        "id": "-I01seNYCNkL"
      },
      "source": [
        "**Code 1**: Sai vài test case ( 90 điểm trên wecode )"
      ]
    },
    {
      "cell_type": "code",
      "metadata": {
        "id": "pL10Wls9ERyy",
        "colab": {
          "base_uri": "https://localhost:8080/"
        },
        "outputId": "f996cfb7-98c9-4f7a-d3e6-0039bebbd66b"
      },
      "source": [
        "k=input().strip()\n",
        "k1=list(map(int,k))\n",
        "k1.sort()\n",
        "du=sum(k1)%3\n",
        "if du==0:\n",
        "    k1.reverse()\n",
        "elif du==1:\n",
        "    flag=0\n",
        "    for i in k1:\n",
        "        if i%3==1:\n",
        "            k1.remove(i)\n",
        "            flag=1\n",
        "            break\n",
        "    if flag==0:\n",
        "        count=0\n",
        "        for i in k1:\n",
        "            if i%3==2:\n",
        "                k1.remove(i)\n",
        "                count+=1\n",
        "            if count==2:\n",
        "                break\n",
        "    k1.reverse()\n",
        "else:\n",
        "    flag=0\n",
        "    for i in k1:\n",
        "        if i%3==2:\n",
        "            k1.remove(i)\n",
        "            flag=1\n",
        "            break\n",
        "    if flag==0:\n",
        "        count=0\n",
        "        for i in k1:\n",
        "            if i%3==1:\n",
        "                count+=1\n",
        "                k1.remove(i)\n",
        "            if count==2:\n",
        "                break\n",
        "    k1.reverse()\n",
        "print(''.join(map(str, k1[0:])))"
      ],
      "execution_count": null,
      "outputs": [
        {
          "output_type": "stream",
          "text": [
            "3344\n",
            "433\n"
          ],
          "name": "stdout"
        }
      ]
    },
    {
      "cell_type": "markdown",
      "metadata": {
        "id": "E8DpBiMWVXtM"
      },
      "source": [
        "![Capture2.PNG](data:image/png;base64,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)"
      ]
    },
    {
      "cell_type": "markdown",
      "metadata": {
        "id": "6nD6JqQOE9Gw"
      },
      "source": [
        "Sau khi chạy thử thì chúng em phát hiện lỗi sai ở hàm remove chỉ xóa 1 lần nên đối với 2 số liên tiếp nhau và giống nhau sẽ chỉ xóa được 1 số (ví dụ 3344->433) (line 14->21 and line 32->37). Nên ở **code 2** chúng em đã tách 2 phần remove riêng biệt để giải quyết vấn đề này."
      ]
    },
    {
      "cell_type": "markdown",
      "metadata": {
        "id": "rCthfO8qEEiF"
      },
      "source": [
        "**code 2**: Sau khi fix (wecode 100)"
      ]
    },
    {
      "cell_type": "code",
      "metadata": {
        "id": "eIRBH1oTEIPb",
        "colab": {
          "base_uri": "https://localhost:8080/"
        },
        "outputId": "ff6bd3f4-c3c9-4422-931c-8817473336b4"
      },
      "source": [
        "k=input().strip()\n",
        "k1=list(map(int,k))\n",
        "k1.sort()\n",
        "du=sum(k1)%3\n",
        "if du==0:\n",
        "    k1.reverse()\n",
        "elif du==1:\n",
        "    flag=0\n",
        "    for i in k1:\n",
        "        if i%3==1:\n",
        "            k1.remove(i)\n",
        "            flag=1\n",
        "            break\n",
        "    if flag==0:\n",
        "        for i in k1:\n",
        "            if i%3==2:\n",
        "                k1.remove(i)\n",
        "                break\n",
        "        for i in k1:\n",
        "            if i%3==2:\n",
        "                k1.remove(i)\n",
        "                break\n",
        "    k1.reverse()\n",
        "else:\n",
        "    flag=0\n",
        "    for i in k1:\n",
        "        if i%3==2:\n",
        "            k1.remove(i)\n",
        "            flag=1\n",
        "            break\n",
        "    if flag==0:\n",
        "        for i in k1:\n",
        "            if i%3==1:\n",
        "                k1.remove(i)\n",
        "                break\n",
        "        for i in k1:\n",
        "            if i%3==1:\n",
        "                k1.remove(i)\n",
        "                break\n",
        "        \n",
        "    k1.reverse()\n",
        "print(''.join(map(str, k1[0:])))"
      ],
      "execution_count": null,
      "outputs": [
        {
          "output_type": "stream",
          "text": [
            "19522337\n",
            "9753321\n"
          ],
          "name": "stdout"
        }
      ]
    },
    {
      "cell_type": "markdown",
      "metadata": {
        "id": "0tKTyHdXXWv8"
      },
      "source": [
        "![Capture.PNG](data:image/png;base64,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)"
      ]
    }
  ]
}