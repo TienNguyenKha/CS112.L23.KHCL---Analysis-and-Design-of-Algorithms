{
  "nbformat": 4,
  "nbformat_minor": 0,
  "metadata": {
    "colab": {
      "name": "KhoaSo.ipynb",
      "provenance": [],
      "collapsed_sections": [],
      "toc_visible": true,
      "authorship_tag": "ABX9TyM7xpvxasy7dzXNYSBNBBQh",
      "include_colab_link": true
    },
    "kernelspec": {
      "name": "python3",
      "display_name": "Python 3"
    },
    "language_info": {
      "name": "python"
    },
    "accelerator": "GPU"
  },
  "cells": [
    {
      "cell_type": "markdown",
      "metadata": {
        "id": "view-in-github",
        "colab_type": "text"
      },
      "source": [
        "<a href=\"https://colab.research.google.com/github/TienNguyenKha/CS112.L23.KHCL---Analysis-and-Design-of-Algorithms/blob/main/KhoaSo.ipynb\" target=\"_parent\"><img src=\"https://colab.research.google.com/assets/colab-badge.svg\" alt=\"Open In Colab\"/></a>"
      ]
    },
    {
      "cell_type": "markdown",
      "metadata": {
        "id": "Naj8-KYz5z9q"
      },
      "source": [
        "<h1 align= \"center\">   <strong>     CS112.PHÂN TÍCH VÀ THIẾT KẾ THUẬT TOÁN</strong> </h1>"
      ]
    },
    {
      "cell_type": "markdown",
      "metadata": {
        "id": "4xsawLrW5-vo"
      },
      "source": [
        "## **CS112.L23.KHCL- Nhóm 7**"
      ]
    },
    {
      "cell_type": "markdown",
      "metadata": {
        "id": "N5gVcWSX6Maa"
      },
      "source": [
        "## Đề bài: **Khóa số**\n",
        "**Khóa Số (0.15s, 100MB)**\n",
        "Để tăng độ an toàn chống hiện tượng cướp ngân hàng ngày càng phổ biến người ta dùng khóa số với mã mở khóa đơn giản nhưng rất hiệu quả. Trên cửa ra vào hiển thị một xâu khá dài các ký tự số. Các chữ số có thể di chuyển đổi chổ cho nhau hoặc bị xóa. Muốn mở khóa người ta phải di chuyển các chữ số và trong trường hợp cần thiết – xóa vài chữ số để nhận được xâu lớn nhất thỏa mãn điều kiện đã cài đặt. Điều kiện này được thay đổi thường xuyên. Hôm nay điều kiện đó là “Số nhận được phải chia hết cho 3”. Số nhận được có thể bắt đầu bằng các chữ số 0. Xâu “000” sẽ lớn hơn xâu “00”.\n",
        "\n",
        "Hãy xác định khóa mở cửa.\n",
        "\n",
        "Dữ liệu: Vào từ thiết bị nhập chuẩn gồm một xâu ký tự số có độ dài lớn hơn 2 và không vượt quá 105.\n",
        "\n",
        "Kết quả: Đưa ra thiết bị xuất chuẩn xâu khóa mở cửa.\n",
        "\n",
        "Ví dụ:\n",
        "\n",
        "INPUT\n",
        "\n",
        "105\n",
        " \n",
        "\n",
        "OUTPUT\n",
        "\n",
        "\n",
        " \n",
        "\n",
        "510\n",
        "\n"
      ]
    },
    {
      "cell_type": "markdown",
      "metadata": {
        "id": "vim40Eu663Pc"
      },
      "source": [
        "##**1. Abstraction:**\n",
        "\n",
        "Tìm xâu ký tự số lớn nhất chia hết cho 3  (có thể xóa hoặc hoán vị) các phần tử. "
      ]
    },
    {
      "cell_type": "markdown",
      "metadata": {
        "id": "Ii_ymT4i7USx"
      },
      "source": [
        "##**2. Pattern Recognition:**\n",
        "\n",
        "\n",
        "\n",
        "*   Theo như đề bài cho thì xâu kí tự có thể lên đến 10^5 kí tự. Nên việc chia trực tiếp để biết nên xóa hay hoán vị phần tử nào là điều khó khăn và dường như không thể thực hiện được.\n",
        "*   Nhưng chúng ta có thể áp dụng đặc điểm khác trong toán học : đó là **dấu hiệu chia hết cho 3** (Nó được phát biểu như sau: 1 số chia hết cho 3 thì tổng các phần tử của số đó cũng sẽ chia hết cho 3)\n",
        "*Đặc điểm nhận dạng: Xâu lớn nhất , chia hết cho 3\n",
        "*   Nên bài toán này chúng em sẽ cho tên dạng bài toán là dạng toán **tìm xâu lớn nhất chia hết cho 3 áp dụng tính chất tổng các phần tử chia hết cho 3**\n",
        "\n",
        "\n",
        "\n"
      ]
    },
    {
      "cell_type": "code",
      "metadata": {
        "id": "WfoOZPsl9SAG"
      },
      "source": [
        ""
      ],
      "execution_count": null,
      "outputs": []
    },
    {
      "cell_type": "markdown",
      "metadata": {
        "id": "1pdA05G-9JPZ"
      },
      "source": [
        "##3. Algorithm designed:\n",
        "###Idea:\n",
        "\n",
        "Khi 1 số bất kì chia cho 3 sẽ có 3 trường hợp:\n",
        "\n",
        "*   Chia hết (Trường hợp đơn giản)\n",
        "*   Chia cho 3 nhưng lại dư 1: \n",
        "        +Có thể là xâu có 1 số chia cho 3 dư 1\n",
        "        +Có thể là xâu có 2 số chia 3 dư 2\n",
        "\n",
        "*  Chia cho 3 nhưng lại dư 2:\n",
        "        +Có thể là xâu có 1 số chia cho 3 dư 2\n",
        "        +Có thể là xâu có 2 số chia cho 3 dư 1\n",
        "\n",
        "* Kết hợp với yêu cầu là xâu dài nhất ==> Chúng ta cần xóa càng ít phần càng tốt. Do đó chúng ta sẽ sắp xếp chuỗi trước (từ cao đến thấp) để xóa dựa vào 2 trường hợp không chia hết cho 3 như trên đã đề cập. Lưu ý là xóa vừa đủ để chuỗi chia hết cho 3, tức là khi đã thỏa mãn được các điều kiện trên thì lập tức dừng xóa ==> để đạt được chuỗi dài nhất.\n",
        "\n",
        "\n",
        "###Pseudocode:\n",
        "\n",
        "Sum= Tổng các số trong xâu\n",
        "\n",
        "du=Sum mod 3\n",
        "\n",
        "Nếu du ==0:\n",
        "\n",
        "        Sắp xếp chuỗi giảm dần\n",
        "\n",
        "Nếu du==1\n",
        "  \n",
        "        Đặt Flag=0 #cờ hiệu\n",
        "  \n",
        "        Nếu xâu có phần tử chia 3 dư 1:\n",
        "              flag=1\n",
        "\n",
        "              Xóa phần tử này khỏi xâu\n",
        "\n",
        "        Nếu flag=0: #Tức xâu không có số chia 3 dư 1 ==> có 2 số chia 3 dư 2\n",
        "\n",
        "            Xóa 2 phần tử này khỏi xâu\n",
        "\n",
        "Nếu du==2\n",
        "  \n",
        "        Đặt Flag=0 #cờ hiệu\n",
        "  \n",
        "        Nếu xâu có phần tử chia 3 dư 2:\n",
        "              flag=1\n",
        "\n",
        "              Xóa phần tử này khỏi xâu\n",
        "\n",
        "        Nếu flag=0: #Tức xâu không có số chia 3 dư 2 ==> có 2 số chia 3 dư 1\n",
        "\n",
        "            Xóa 2 phần tử này khỏi xâu\n",
        "\n",
        "In chuỗi đã sắp xếp giảm dần"
      ]
    },
    {
      "cell_type": "markdown",
      "metadata": {
        "id": "vaGhBfYaG4cH"
      },
      "source": [
        "## **4.Computing Time Complexity**\n",
        "\n"
      ]
    },
    {
      "cell_type": "markdown",
      "metadata": {
        "id": "0a11msayCCWf"
      },
      "source": [
        "##**5. Programming:**\n"
      ]
    },
    {
      "cell_type": "markdown",
      "metadata": {
        "id": "-I01seNYCNkL"
      },
      "source": [
        "**Code 1**: Sai vài test case ( 90 điểm trên wecode )"
      ]
    },
    {
      "cell_type": "code",
      "metadata": {
        "id": "pL10Wls9ERyy"
      },
      "source": [
        "import io,os,sys\n",
        "input=sys.stdin.readline \n",
        "k=input().strip()\n",
        "k1=list(map(int,k))\n",
        "k1.sort()\n",
        "du=sum(k1)%3\n",
        "if du==0:\n",
        "    k1.reverse()\n",
        "elif du==1:\n",
        "    flag=0\n",
        "    for i in k1:\n",
        "        if i%3==1:\n",
        "            k1.remove(i)\n",
        "            flag=1\n",
        "            break\n",
        "    if flag==0:\n",
        "        count=0\n",
        "        for i in k1:\n",
        "            if i%3==2:\n",
        "                k1.remove(i)\n",
        "                count+=1\n",
        "            if count==2:\n",
        "              break\n",
        "    k1.reverse()\n",
        "else:\n",
        "    flag=0\n",
        "    for i in k1:\n",
        "        if i%3==2:\n",
        "            k1.remove(i)\n",
        "            flag=1\n",
        "            break\n",
        "    if flag==0:\n",
        "        count=0\n",
        "        for i in k1:\n",
        "            if i%3==2:\n",
        "                k1.remove(i)\n",
        "                count+=1\n",
        "            if count==2:\n",
        "              break\n",
        "        \n",
        "    k1.reverse()\n",
        "sys.stdout.write(''.join(map(str, k1[0:])))"
      ],
      "execution_count": 32,
      "outputs": []
    },
    {
      "cell_type": "markdown",
      "metadata": {
        "id": "6nD6JqQOE9Gw"
      },
      "source": [
        "Sau khi chạy thử thì chúng em phát hiện lỗi sai ở hàm remove chỉ xóa 1 lần nên đối với 2 số liên tiếp nhau và giống nhau sẽ chỉ xóa được 1 số (ví dụ 3344->433) (line 18->23 and line 34->39). Nên ở **code 2** chúng em đã tách 2 phần remove riêng biệt để giải quyết vấn đề này."
      ]
    },
    {
      "cell_type": "markdown",
      "metadata": {
        "id": "rCthfO8qEEiF"
      },
      "source": [
        "**code 2**: Sau khi fix (wecode 100)"
      ]
    },
    {
      "cell_type": "code",
      "metadata": {
        "id": "eIRBH1oTEIPb"
      },
      "source": [
        "import io,os,sys\n",
        "input=sys.stdin.readline \n",
        "k=input().strip()\n",
        "k1=list(map(int,k))\n",
        "k1.sort()\n",
        "du=sum(k1)%3\n",
        "if du==0:\n",
        "    k1.reverse()\n",
        "elif du==1:\n",
        "    flag=0\n",
        "    for i in k1:\n",
        "        if i%3==1:\n",
        "            k1.remove(i)\n",
        "            flag=1\n",
        "            break\n",
        "    if flag==0:\n",
        "        for i in k1:\n",
        "            if i%3==2:\n",
        "                k1.remove(i)\n",
        "        for i in k1:\n",
        "            if i%3==2:\n",
        "                k1.remove(i)\n",
        "    k1.reverse()\n",
        "else:\n",
        "    flag=0\n",
        "    for i in k1:\n",
        "        if i%3==2:\n",
        "            k1.remove(i)\n",
        "            flag=1\n",
        "            break\n",
        "    if flag==0:\n",
        "        for i in k1:\n",
        "            if i%3==1:\n",
        "                k1.remove(i)\n",
        "        for i in k1:\n",
        "            if i%3==1:\n",
        "                k1.remove(i)\n",
        "        \n",
        "    k1.reverse()\n",
        "sys.stdout.write(''.join(map(str, k1[0:])))"
      ],
      "execution_count": 33,
      "outputs": []
    }
  ]
}