{
  "nbformat": 4,
  "nbformat_minor": 0,
  "metadata": {
    "colab": {
      "name": "KhoaSo.ipynb",
      "provenance": [],
      "collapsed_sections": [],
      "toc_visible": true,
      "authorship_tag": "ABX9TyP7XDbRbtlVjkR5Jub5K0We",
      "include_colab_link": true
    },
    "kernelspec": {
      "name": "python3",
      "display_name": "Python 3"
    },
    "language_info": {
      "name": "python"
    },
    "accelerator": "GPU"
  },
  "cells": [
    {
      "cell_type": "markdown",
      "metadata": {
        "id": "view-in-github",
        "colab_type": "text"
      },
      "source": [
        "<a href=\"https://colab.research.google.com/github/TienNguyenKha/CS112.L23.KHCL---Analysis-and-Design-of-Algorithms/blob/main/KhoaSo.ipynb\" target=\"_parent\"><img src=\"https://colab.research.google.com/assets/colab-badge.svg\" alt=\"Open In Colab\"/></a>"
      ]
    },
    {
      "cell_type": "markdown",
      "metadata": {
        "id": "Naj8-KYz5z9q"
      },
      "source": [
        "<h1 align= \"center\">   <strong>     CS112.PHÂN TÍCH VÀ THIẾT KẾ THUẬT TOÁN</strong> </h1>"
      ]
    },
    {
      "cell_type": "markdown",
      "metadata": {
        "id": "4xsawLrW5-vo"
      },
      "source": [
        "## **CS112.L23.KHCL- Nhóm 7**"
      ]
    },
    {
      "cell_type": "markdown",
      "metadata": {
        "id": "N5gVcWSX6Maa"
      },
      "source": [
        "## Đề bài: **Khóa số**\n",
        "**Khóa Số (0.15s, 100MB)**\n",
        "Để tăng độ an toàn chống hiện tượng cướp ngân hàng ngày càng phổ biến người ta dùng khóa số với mã mở khóa đơn giản nhưng rất hiệu quả. Trên cửa ra vào hiển thị một xâu khá dài các ký tự số. Các chữ số có thể di chuyển đổi chổ cho nhau hoặc bị xóa. Muốn mở khóa người ta phải di chuyển các chữ số và trong trường hợp cần thiết – xóa vài chữ số để nhận được xâu lớn nhất thỏa mãn điều kiện đã cài đặt. Điều kiện này được thay đổi thường xuyên. Hôm nay điều kiện đó là “Số nhận được phải chia hết cho 3”. Số nhận được có thể bắt đầu bằng các chữ số 0. Xâu “000” sẽ lớn hơn xâu “00”.\n",
        "\n",
        "Hãy xác định khóa mở cửa.\n",
        "\n",
        "Dữ liệu: Vào từ thiết bị nhập chuẩn gồm một xâu ký tự số có độ dài lớn hơn 2 và không vượt quá 105.\n",
        "\n",
        "Kết quả: Đưa ra thiết bị xuất chuẩn xâu khóa mở cửa.\n",
        "\n",
        "Ví dụ:\n",
        "\n",
        "INPUT\n",
        "\n",
        "105\n",
        " \n",
        "\n",
        "OUTPUT\n",
        "\n",
        "\n",
        " \n",
        "\n",
        "510\n",
        "\n"
      ]
    },
    {
      "cell_type": "markdown",
      "metadata": {
        "id": "vim40Eu663Pc"
      },
      "source": [
        "##**1. Abstraction:**\n",
        "\n",
        "Tìm xâu ký tự số lớn nhất chia hết cho 3  (có thể xóa hoặc hoán vị) các phần tử. "
      ]
    },
    {
      "cell_type": "markdown",
      "metadata": {
        "id": "Ii_ymT4i7USx"
      },
      "source": [
        "##**2. Pattern Recognition:**\n",
        "\n",
        "\n",
        "\n",
        "*   Theo như đề bài cho thì xâu kí tự có thể lên đến 10^5 kí tự. Nên việc chia trực tiếp để biết nên xóa hay hoán vị phần tử nào là điều khó khăn và dường như không thể thực hiện được.\n",
        "*   Nhưng chúng ta có thể áp dụng đặc điểm khác trong toán học : đó là **dấu hiệu chia hết cho 3** (Nó được phát biểu như sau: 1 số chia hết cho 3 thì tổng các phần tử của số đó cũng sẽ chia hết cho 3)\n",
        "*Đặc điểm nhận dạng: Xâu lớn nhất , chia hết cho 3\n",
        "*   Nên bài toán này chúng em sẽ cho tên dạng bài toán là dạng toán **tìm xâu lớn nhất chia hết cho 3 áp dụng tính chất tổng các phần tử chia hết cho 3**\n",
        "\n",
        "\n",
        "\n"
      ]
    },
    {
      "cell_type": "code",
      "metadata": {
        "id": "WfoOZPsl9SAG"
      },
      "source": [
        ""
      ],
      "execution_count": null,
      "outputs": []
    },
    {
      "cell_type": "markdown",
      "metadata": {
        "id": "1pdA05G-9JPZ"
      },
      "source": [
        "##3. Algorithm designed:\n",
        "###Idea:\n",
        "\n",
        "Khi 1 số bất kì chia cho 3 sẽ có 3 trường hợp:\n",
        "\n",
        "*   Chia hết (Trường hợp đơn giản)\n",
        "*   Chia cho 3 nhưng lại dư 1: \n",
        "        +Có thể là xâu có 1 số chia cho 3 dư 1\n",
        "        +Có thể là xâu có 2 số chia 3 dư 2\n",
        "\n",
        "*  Chia cho 3 nhưng lại dư 2:\n",
        "        +Có thể là xâu có 1 số chia cho 3 dư 2\n",
        "        +Có thể là xâu có 2 số chia cho 3 dư 1\n",
        "\n",
        "* Kết hợp với yêu cầu là xâu dài nhất ==> Chúng ta cần xóa càng ít phần càng tốt. Do đó chúng ta sẽ sắp xếp chuỗi trước (từ cao đến thấp) để xóa dựa vào 2 trường hợp không chia hết cho 3 như trên đã đề cập. Lưu ý là xóa vừa đủ để chuỗi chia hết cho 3, tức là khi đã thỏa mãn được các điều kiện trên thì lập tức dừng xóa ==> để đạt được chuỗi dài nhất.\n",
        "\n",
        "\n",
        "###Pseudocode:\n",
        "\n",
        "Sum= Tổng các số trong xâu\n",
        "\n",
        "du=Sum mod 3\n",
        "\n",
        "Nếu du ==0:\n",
        "\n",
        "        Sắp xếp chuỗi giảm dần\n",
        "\n",
        "Nếu du==1\n",
        "  \n",
        "        Đặt Flag=0 #cờ hiệu\n",
        "  \n",
        "        Nếu xâu có phần tử chia 3 dư 1:\n",
        "              flag=1\n",
        "\n",
        "              Xóa phần tử này khỏi xâu\n",
        "\n",
        "        Nếu flag=0: #Tức xâu không có số chia 3 dư 1 ==> có 2 số chia 3 dư 2\n",
        "\n",
        "            Xóa 2 phần tử này khỏi xâu\n",
        "\n",
        "Nếu du==2\n",
        "  \n",
        "        Đặt Flag=0 #cờ hiệu\n",
        "  \n",
        "        Nếu xâu có phần tử chia 3 dư 2:\n",
        "              flag=1\n",
        "\n",
        "              Xóa phần tử này khỏi xâu\n",
        "\n",
        "        Nếu flag=0: #Tức xâu không có số chia 3 dư 2 ==> có 2 số chia 3 dư 1\n",
        "\n",
        "            Xóa 2 phần tử này khỏi xâu\n",
        "\n",
        "In chuỗi đã sắp xếp giảm dần"
      ]
    },
    {
      "cell_type": "markdown",
      "metadata": {
        "id": "vaGhBfYaG4cH"
      },
      "source": [
        "## **4.Computing Time Complexity**\n",
        "\n"
      ]
    },
    {
      "cell_type": "markdown",
      "metadata": {
        "id": "0a11msayCCWf"
      },
      "source": [
        "##**5. Programming:**\n"
      ]
    },
    {
      "cell_type": "markdown",
      "metadata": {
        "id": "-I01seNYCNkL"
      },
      "source": [
        "**Code 1**: Sai vài test case ( 90 điểm trên wecode )"
      ]
    },
    {
      "cell_type": "code",
      "metadata": {
        "id": "pL10Wls9ERyy",
        "colab": {
          "base_uri": "https://localhost:8080/"
        },
        "outputId": "f996cfb7-98c9-4f7a-d3e6-0039bebbd66b"
      },
      "source": [
        "k=input().strip()\n",
        "k1=list(map(int,k))\n",
        "k1.sort()\n",
        "du=sum(k1)%3\n",
        "if du==0:\n",
        "    k1.reverse()\n",
        "elif du==1:\n",
        "    flag=0\n",
        "    for i in k1:\n",
        "        if i%3==1:\n",
        "            k1.remove(i)\n",
        "            flag=1\n",
        "            break\n",
        "    if flag==0:\n",
        "        count=0\n",
        "        for i in k1:\n",
        "            if i%3==2:\n",
        "                k1.remove(i)\n",
        "                count+=1\n",
        "            if count==2:\n",
        "                break\n",
        "    k1.reverse()\n",
        "else:\n",
        "    flag=0\n",
        "    for i in k1:\n",
        "        if i%3==2:\n",
        "            k1.remove(i)\n",
        "            flag=1\n",
        "            break\n",
        "    if flag==0:\n",
        "        count=0\n",
        "        for i in k1:\n",
        "            if i%3==1:\n",
        "                count+=1\n",
        "                k1.remove(i)\n",
        "            if count==2:\n",
        "                break\n",
        "    k1.reverse()\n",
        "print(''.join(map(str, k1[0:])))"
      ],
      "execution_count": 6,
      "outputs": [
        {
          "output_type": "stream",
          "text": [
            "3344\n",
            "433\n"
          ],
          "name": "stdout"
        }
      ]
    },
    {
      "cell_type": "markdown",
      "metadata": {
        "id": "E8DpBiMWVXtM"
      },
      "source": [
        "![Capture2.PNG](data:image/png;base64,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)"
      ]
    },
    {
      "cell_type": "markdown",
      "metadata": {
        "id": "6nD6JqQOE9Gw"
      },
      "source": [
        "Sau khi chạy thử thì chúng em phát hiện lỗi sai ở hàm remove chỉ xóa 1 lần nên đối với 2 số liên tiếp nhau và giống nhau sẽ chỉ xóa được 1 số (ví dụ 3344->433) (line 14->21 and line 32->37). Nên ở **code 2** chúng em đã tách 2 phần remove riêng biệt để giải quyết vấn đề này."
      ]
    },
    {
      "cell_type": "markdown",
      "metadata": {
        "id": "rCthfO8qEEiF"
      },
      "source": [
        "**code 2**: Sau khi fix (wecode 100)"
      ]
    },
    {
      "cell_type": "code",
      "metadata": {
        "id": "eIRBH1oTEIPb",
        "colab": {
          "base_uri": "https://localhost:8080/"
        },
        "outputId": "a5e2b59e-1eac-4234-919e-6866b44f77ca"
      },
      "source": [
        "k=input().strip()\n",
        "k1=list(map(int,k))\n",
        "k1.sort()\n",
        "du=sum(k1)%3\n",
        "if du==0:\n",
        "    k1.reverse()\n",
        "elif du==1:\n",
        "    flag=0\n",
        "    for i in k1:\n",
        "        if i%3==1:\n",
        "            k1.remove(i)\n",
        "            flag=1\n",
        "            break\n",
        "    if flag==0:\n",
        "        for i in k1:\n",
        "            if i%3==2:\n",
        "                k1.remove(i)\n",
        "        for i in k1:\n",
        "            if i%3==2:\n",
        "                k1.remove(i)\n",
        "    k1.reverse()\n",
        "else:\n",
        "    flag=0\n",
        "    for i in k1:\n",
        "        if i%3==2:\n",
        "            k1.remove(i)\n",
        "            flag=1\n",
        "            break\n",
        "    if flag==0:\n",
        "        for i in k1:\n",
        "            if i%3==1:\n",
        "                k1.remove(i)\n",
        "        for i in k1:\n",
        "            if i%3==1:\n",
        "                k1.remove(i)\n",
        "        \n",
        "    k1.reverse()\n",
        "print(''.join(map(str, k1[0:])))"
      ],
      "execution_count": 7,
      "outputs": [
        {
          "output_type": "stream",
          "text": [
            "19522337\n",
            "9753321\n"
          ],
          "name": "stdout"
        }
      ]
    },
    {
      "cell_type": "markdown",
      "metadata": {
        "id": "ZwjbeA5GVKKD"
      },
      "source": [
        "![Capture.PNG](data:image/png;base64,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)"
      ]
    }
  ]
}