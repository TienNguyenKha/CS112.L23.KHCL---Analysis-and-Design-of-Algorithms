{
  "nbformat": 4,
  "nbformat_minor": 0,
  "metadata": {
    "colab": {
      "name": "BOTnotebook.ipynb",
      "provenance": [],
      "collapsed_sections": [],
      "authorship_tag": "ABX9TyOIeaTgoYf82M7eOtW3Ldyb",
      "include_colab_link": true
    },
    "kernelspec": {
      "name": "python3",
      "display_name": "Python 3"
    },
    "language_info": {
      "name": "python"
    }
  },
  "cells": [
    {
      "cell_type": "markdown",
      "metadata": {
        "id": "view-in-github",
        "colab_type": "text"
      },
      "source": [
        "<a href=\"https://colab.research.google.com/github/TienNguyenKha/CS112.L23.KHCL---Analysis-and-Design-of-Algorithms/blob/main/BOTnotebook.ipynb\" target=\"_parent\"><img src=\"https://colab.research.google.com/assets/colab-badge.svg\" alt=\"Open In Colab\"/></a>"
      ]
    },
    {
      "cell_type": "markdown",
      "metadata": {
        "id": "QfEl4AKZZRem"
      },
      "source": [
        "# **BOT**: *Trạm thu phí*\n",
        "BOT (Built-Operation-Transfer, có nghĩa: Xây dựng-Vận hành-Chuyển giao) là hình thức Chính phủ kêu gọi các công ty bỏ vốn xây dựng trước (Built) thông qua đấu thầu, sau đó khai thác vận hành một thời gian (Operation) và sau cùng là chuyển giao (Transfer) lại cho nhà nước sở tại.\n",
        "\n",
        "Đường cao tốc xuyên quốc gia được xây dựng theo hình thức BOT. Công ty Đa quốc gia Modern Highway trúng thầu, chia toàn bộ con đường thành n đoạn. Theo tính toán của Công ty sau khi chuyển giao con đường cho chính phủ sở tại quản lý thì lãi thu được ở đoạn đường thứ i là a_i, a_i có thể dương, âm hoặc bằng 0, tức là với từng đoạn con có thể lãi, lỗ hoặc hòa vốn. Từng nhóm các đoạn đường liên tiếp nhau (gọi tắt là khoảng) được chia cho các công ty con thực hiện. Công ty con ASEAM Highway hiện đang có trụ sở ở nước sở tại được quyền chọn trước khoảng tùy ý (có thể là cả con đường).\n",
        "\n",
        "Dĩ nhiên Ban Giám đốc ASEAM Highway muốn chọn khoảng bắt đầu từ đoạn p đến hết đoạn q mang lại lợi nhuận cao nhất hoặc lỗ ít nhất nếu không có khoảng nào cho lãi.\n",
        "\n",
        "Hãy chỉ ra khoảng cần chọn và lãi thu được. Nếu có nhiều cách chọn thì chỉ ra cách chọn có p nhỏ nhất.\n",
        "\n",
        "Dữ liệu: Vào từ thiết bị nhập chuẩn: Dòng đầu tiên chứa số nguyên n (1 ≤ n ≤ 10^6), Dòng thứ 2 chứa n số nguyên a1, a2, . . ., an (0 ≤ |ai| ≤ 109, i = 1 ÷ n).\n",
        "\n",
        "Kết quả: Đưa ra thiết bị xuất chuẩn trên một dòng 2 số nguyên p, q và lãi thu được."
      ]
    },
    {
      "cell_type": "markdown",
      "metadata": {
        "id": "UUe9uFgaaNGF"
      },
      "source": [
        "## Tóm tắt bài toán:\n",
        "\n",
        "\n",
        "\n",
        "*   1 đoạn đường có **n** đoạn\n",
        "\n",
        "*   Gọi a[i]: là lãi tại đoạn đường thứ i (có thể <0 ~ lỗ)\n",
        "*   **Input**:\n",
        "n và mảng A[0...n]\n",
        "\n",
        "\n",
        "*   **Output**: p, q, lãi.\n",
        "\n",
        "**Mục tiêu**:tìm mảng con ***liên tiếp có tổng lớn nhất***\n",
        "\n",
        "\n",
        "\n",
        "\n",
        "\n",
        "\n",
        "\n",
        "\n",
        "\n",
        "\n",
        "\n",
        "\n",
        "\n"
      ]
    },
    {
      "cell_type": "markdown",
      "metadata": {
        "id": "WxJ1QxoIdLt1"
      },
      "source": [
        "## Hướng giải quyết:\n",
        "+**Hướng giải quyết 1**: ta tiếp cận bài toán bằng cách đơn giản chính là tính tổng từng đoạn và so sánh kết quả này để tìm ra kết quả lớn nhất. Với cách làm này chúng ta có time complexity là O(n3).\n",
        "\n",
        "+**Hướng giải quyết 2:** Song với hướng giải quyết 1 thì chúng ta vẫn chưa thể giải quyết hoàn toàn bài toán trên. Nhận thấy rằng bài toán này chúng ta có thể sử dụng công thức để giải quyết nó 1 cách nhanh hơn bằng cách sử dụng công thức:\n",
        "\n",
        "\n",
        "*   Gọi f[i] là tổng của i phần tử đầu tiên,khi đó f[i] được tính bằng công thức sau:\n",
        "\n",
        "\n",
        "\n",
        "1.   f[0]=a[0]\n",
        "2.   f[i]=f[i-1]+a[i].\n",
        "\n",
        "\n",
        "\n",
        "*   Vậy tổng phần tử từ p đến q là: f[q]-f[p-1].\n",
        "\n",
        "Với hướng giải quyết thứ 2 này thì chúng ta có thể thấy rằng time complexity của thuật đoán đã giảm từ O(n3) ==> O(n2)\n",
        "\n",
        "Nhận xét: tại mỗi vị trí i tổng của đoạn lớn nhất kết thúc tại i là f[i]-min(f[j]). Với j chạy từ 0->i.\n",
        "\n",
        "Ví dụ:\n",
        "\n",
        "\n",
        "*   a=[1,3,-5,2]\n",
        "*   f[0]=1 (Gán ban đầu).\n",
        "\n",
        "Áp dụng công thức đã suy ra : f[i]=f[i-1]+a[i] để tính các f[i] còn lại.\n",
        "\n",
        "* f[1]=4\n",
        "* f[2]=-1\n",
        "* f[3]=1\n",
        "\n",
        "Gỉa sử ta muốn tính tổng của đoạn lớn nhất tại i=3. Khi đó min(f[j])=-1 và f[3]=1. Áp dụng công thức f[i]-min(f[j]) vừa suy ra ở trên thì đúng thật đây là đoạn lớn nhất tại i=3 . Và nó có giá trị là f[3]-min(f[j])=1-(-1)=2.\n",
        "\n",
        "\n",
        "\n",
        "\n",
        "\n",
        "\n",
        "\n",
        "\n"
      ]
    },
    {
      "cell_type": "markdown",
      "metadata": {
        "id": "T6vhVcTBgWT8"
      },
      "source": [
        "## Triển khai:\n"
      ]
    },
    {
      "cell_type": "markdown",
      "metadata": {
        "id": "UlOreqzrghqI"
      },
      "source": [
        "Nhập n đoạn đường:"
      ]
    },
    {
      "cell_type": "code",
      "metadata": {
        "colab": {
          "base_uri": "https://localhost:8080/"
        },
        "id": "aP93MeoggfkD",
        "outputId": "5ebb901a-8ba1-42e2-fe8c-4acee4d96e92"
      },
      "source": [
        "n=int(input())"
      ],
      "execution_count": null,
      "outputs": [
        {
          "output_type": "stream",
          "text": [
            "16\n"
          ],
          "name": "stdout"
        }
      ]
    },
    {
      "cell_type": "markdown",
      "metadata": {
        "id": "P5T1HA3vg37u"
      },
      "source": [
        "Nhập mảng a với mỗi a[i] là lãi của từng đoạn đường tương ứng với chỉ số i"
      ]
    },
    {
      "cell_type": "code",
      "metadata": {
        "colab": {
          "base_uri": "https://localhost:8080/"
        },
        "id": "oWhCpVIrhDKH",
        "outputId": "f47d929b-948e-47a0-d3de-0ad415da6e20"
      },
      "source": [
        "a=[int(i) for i in input().split()]"
      ],
      "execution_count": null,
      "outputs": [
        {
          "output_type": "stream",
          "text": [
            "2 -4 5 -8 4 -1 -1 1 1 1 -2 2 4 -6 9 -4\n"
          ],
          "name": "stdout"
        }
      ]
    },
    {
      "cell_type": "code",
      "metadata": {
        "colab": {
          "base_uri": "https://localhost:8080/"
        },
        "id": "lemCFYcRmXYo",
        "outputId": "9bba2c89-692d-40fb-a968-46aad7d28ab9"
      },
      "source": [
        "a"
      ],
      "execution_count": null,
      "outputs": [
        {
          "output_type": "execute_result",
          "data": {
            "text/plain": [
              "[2, -4, 5, -8, 4, -1, -1, 1, 1, 1, -2, 2, 4, -6, 9, -4]"
            ]
          },
          "metadata": {
            "tags": []
          },
          "execution_count": 3
        }
      ]
    },
    {
      "cell_type": "markdown",
      "metadata": {
        "id": "UTaBhqZbhM__"
      },
      "source": [
        "Bắt đầu tính f[i]"
      ]
    },
    {
      "cell_type": "code",
      "metadata": {
        "id": "ZG4xf9PvhRWZ"
      },
      "source": [
        "#Khởi tạo list f với tất cả phần tử ban đầu bằng 0, sau đó gán f[0]=a[0]\n",
        "f=[0 for i in range(n)]\n",
        "f[0]=a[0]"
      ],
      "execution_count": null,
      "outputs": []
    },
    {
      "cell_type": "code",
      "metadata": {
        "colab": {
          "base_uri": "https://localhost:8080/"
        },
        "id": "lja2pCV2mbtT",
        "outputId": "313a5d9b-7fa7-492d-add4-74a2efeefe57"
      },
      "source": [
        "f"
      ],
      "execution_count": null,
      "outputs": [
        {
          "output_type": "execute_result",
          "data": {
            "text/plain": [
              "[2, 0, 0, 0, 0, 0, 0, 0, 0, 0, 0, 0, 0, 0, 0, 0]"
            ]
          },
          "metadata": {
            "tags": []
          },
          "execution_count": 5
        }
      ]
    },
    {
      "cell_type": "code",
      "metadata": {
        "id": "biI-TzkYhpt2"
      },
      "source": [
        "#Tính f[i] từ công thức đã suy ra ở Hướng giải quyết 2\n",
        "for i in range(1,n):\n",
        "    f[i]=f[i-1]+a[i]"
      ],
      "execution_count": null,
      "outputs": []
    },
    {
      "cell_type": "code",
      "metadata": {
        "colab": {
          "base_uri": "https://localhost:8080/"
        },
        "id": "YNzo7nRtmgP0",
        "outputId": "152514ef-004f-404a-a4d9-8f1681f55f02"
      },
      "source": [
        "f"
      ],
      "execution_count": null,
      "outputs": [
        {
          "output_type": "execute_result",
          "data": {
            "text/plain": [
              "[2, -2, 3, -5, -1, -2, -3, -2, -1, 0, -2, 0, 4, -2, 7, 3]"
            ]
          },
          "metadata": {
            "tags": []
          },
          "execution_count": 7
        }
      ]
    },
    {
      "cell_type": "code",
      "metadata": {
        "id": "BDrNWhHYkik-"
      },
      "source": [
        "#Khởi tạo các biến phục vụ cho tính toán\n",
        "maxn=0 #lãi lớn nhất sau khi tính toán\n",
        "fmin=0\n",
        "p=0 #index tại đoạn p\n",
        "q=0 #index tại đoạn q\n",
        "#p,q: là đoạn đường từ p->q mà đạt được lãi lớn nhất!\n",
        "sumo=0 #sum a[i]\n",
        "s=0 #phục vụ cho việc tìm ra p->q "
      ],
      "execution_count": null,
      "outputs": []
    },
    {
      "cell_type": "code",
      "metadata": {
        "colab": {
          "base_uri": "https://localhost:8080/"
        },
        "id": "MXuxqbxElFRe",
        "outputId": "f4bb8077-0fe5-449f-a99d-f44c2673058d"
      },
      "source": [
        "for i in range(0,n):\n",
        "    if f[i]-fmin>maxn:\n",
        "        maxn=f[i]-fmin\n",
        "        p=s\n",
        "        q=i#khi tìm được 1 maxn mới ==> vị trí cuối đã được tìm ra\n",
        "    sumo+=a[i]\n",
        "    #Nhận thấy tổng của đoạn phía sau luôn lớn hơn tổng trước . Nên khi có bất kì sumo<0 thì ta sẽ gán lại sumo=0==>(bỏ đi đoạn phía trước)\n",
        "    #Đồng thời cập nhật cho p sau này bằng biến phụ là s để lưu trữ vị trí chuyển đổi này. \n",
        "    if sumo<0:\n",
        "        sumo=0\n",
        "        s=i+1\n",
        "    fmin=min(fmin,f[i])\n",
        "print(p+1,q+1,maxn)#vì mảng bắt đầu từ 0->n nên p và q đều phải +1 để đảm bảo đúng vị trí đề bài ra."
      ],
      "execution_count": null,
      "outputs": [
        {
          "output_type": "stream",
          "text": [
            "5 15 12\n"
          ],
          "name": "stdout"
        }
      ]
    },
    {
      "cell_type": "markdown",
      "metadata": {
        "id": "HyGpXiMch6GR"
      },
      "source": [
        ""
      ]
    }
  ]
}