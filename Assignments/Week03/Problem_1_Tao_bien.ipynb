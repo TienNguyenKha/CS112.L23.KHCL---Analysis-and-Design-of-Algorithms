{
  "nbformat": 4,
  "nbformat_minor": 0,
  "metadata": {
    "colab": {
      "name": "Problem 1: Tảo biển.ipynb",
      "provenance": [],
      "collapsed_sections": [],
      "toc_visible": true
    },
    "kernelspec": {
      "name": "python3",
      "display_name": "Python 3"
    },
    "language_info": {
      "name": "python"
    }
  },
  "cells": [
    {
      "cell_type": "markdown",
      "metadata": {
        "id": "s96qZ7eBuKYh"
      },
      "source": [
        "# Problem 1: [Tảo biển](https://khmt.uit.edu.vn/wecode/cs112.2021/assignment/2/3)"
      ]
    },
    {
      "cell_type": "markdown",
      "metadata": {
        "id": "1HgBg4YaugR3"
      },
      "source": [
        "## Abstraction"
      ]
    },
    {
      "cell_type": "markdown",
      "metadata": {
        "id": "2l0fJVcCul8H"
      },
      "source": [
        "## Pattern Recognition\n",
        "Find *n<sub>th</sub>* Fibonacci number"
      ]
    },
    {
      "cell_type": "markdown",
      "metadata": {
        "id": "X9c698FQumsb"
      },
      "source": [
        "## Algorithm Efficiency\n",
        "- ***Time Complexity:*** O(n)\n",
        "- ***Extra Space:*** O(1)"
      ]
    },
    {
      "cell_type": "markdown",
      "metadata": {
        "id": "MrECJqmDwFLS"
      },
      "source": [
        "## Programming"
      ]
    },
    {
      "cell_type": "markdown",
      "metadata": {
        "id": "alhG4P-kwnC8"
      },
      "source": [
        "**Input:** *n* và *k* (1 ≤ n ≤ 1000, 1 ≤ k ≤ 10<sup>17</sup>)"
      ]
    },
    {
      "cell_type": "code",
      "metadata": {
        "id": "lIGxTq6-wmcu"
      },
      "source": [
        "n, k = map(int, input().split())"
      ],
      "execution_count": null,
      "outputs": []
    },
    {
      "cell_type": "markdown",
      "metadata": {
        "id": "EPiGze_OxVfi"
      },
      "source": [
        "Define `fibonacci` function with algorithm that has the **space opimized**."
      ]
    },
    {
      "cell_type": "code",
      "metadata": {
        "id": "l0cPwI7UwTjv"
      },
      "source": [
        "def fibonacci(n):\n",
        "    if n <= 1:\n",
        "        return n\n",
        "    a = 0\n",
        "    b = 1\n",
        "    c = 0\n",
        "\n",
        "    for i in range(2, n + 1):\n",
        "        c = a + b;\n",
        "        a = b;\n",
        "        b = c\n",
        "\n",
        "    return c"
      ],
      "execution_count": null,
      "outputs": []
    },
    {
      "cell_type": "markdown",
      "metadata": {
        "id": "SDQsIbspygDN"
      },
      "source": [
        "Print result"
      ]
    },
    {
      "cell_type": "code",
      "metadata": {
        "id": "uCnM0FK0wbxh"
      },
      "source": [
        "print(n * fibonacci(2 * k + 1) % (pow(10, 9) + 7))"
      ],
      "execution_count": null,
      "outputs": []
    }
  ]
}